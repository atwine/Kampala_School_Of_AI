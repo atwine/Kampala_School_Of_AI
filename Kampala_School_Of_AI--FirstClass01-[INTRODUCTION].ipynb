{
 "cells": [
  {
   "cell_type": "markdown",
   "metadata": {},
   "source": [
    "<img src = 'School of ai inverse logo.png'></img>"
   ]
  },
  {
   "attachments": {},
   "cell_type": "markdown",
   "metadata": {},
   "source": [
    "# Introduction Class\n",
    "\n",
    "Hello, world it’s Atwine & Tonny! We are the deans for **Kampala** school of ai. \n",
    "\n",
    "\n",
    "## What is school of AI?\n",
    "\n",
    "The School of AI’s mission is to offer a world-class AI education to anyone on Earth for free. Our doors are open to all those who wish to learn. We are a learning community that spans almost every country dedicated to teaching our students how to make a positive impact in the world using AI technology, whether that's through employment or entrepreneurship.\n",
    "\n",
    "To learn more about the school of ai you can visit this [link](http://bit.ly/SchoolOfAI)\n",
    "\n",
    "We host meetups every [x.] To stay up to date on when and where we will host our next meetup please sign up for our group[HERE](https://www.meetup.com/Kampala-School-of-AI/). \n",
    "\n",
    "## What is the vision of the school of AI?\n",
    "\n"
   ]
  },
  {
   "cell_type": "code",
   "execution_count": null,
   "metadata": {},
   "outputs": [],
   "source": []
  }
 ],
 "metadata": {
  "kernelspec": {
   "display_name": "Python 3",
   "language": "python",
   "name": "python3"
  },
  "language_info": {
   "codemirror_mode": {
    "name": "ipython",
    "version": 3
   },
   "file_extension": ".py",
   "mimetype": "text/x-python",
   "name": "python",
   "nbconvert_exporter": "python",
   "pygments_lexer": "ipython3",
   "version": "3.6.4"
  }
 },
 "nbformat": 4,
 "nbformat_minor": 2
}
